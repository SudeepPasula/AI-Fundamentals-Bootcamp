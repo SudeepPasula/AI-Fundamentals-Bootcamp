{
  "nbformat": 4,
  "nbformat_minor": 0,
  "metadata": {
    "colab": {
      "provenance": []
    },
    "kernelspec": {
      "name": "python3",
      "display_name": "Python 3"
    },
    "language_info": {
      "name": "python"
    }
  },
  "cells": [
    {
      "cell_type": "code",
      "execution_count": null,
      "metadata": {
        "colab": {
          "base_uri": "https://localhost:8080/",
          "height": 1000
        },
        "id": "YAPhHGZgSFTK",
        "outputId": "982e0832-28f3-4f15-d0c6-a80eb453cfca"
      },
      "outputs": [
        {
          "output_type": "stream",
          "name": "stdout",
          "text": [
            "dict_keys(['data', 'target', 'frame', 'feature_names', 'target_names', 'images', 'DESCR'])\n",
            "Shape of images: (1797, 8, 8)\n",
            "Shape of targets: (1797,)\n",
            "Number of samples: 1797\n",
            "Number of features: 64\n",
            ".. _digits_dataset:\n",
            "\n",
            "Optical recognition of handwritten digits dataset\n",
            "--------------------------------------------------\n",
            "\n",
            "**Data Set Characteristics:**\n",
            "\n",
            "    :Number of Instances: 1797\n",
            "    :Number of Attributes: 64\n",
            "    :Attribute Information: 8x8 image of integer pixels in the range 0..16.\n",
            "    :Missing Attribute Values: None\n",
            "    :Creator: E. Alpaydin (alpaydin '@' boun.edu.tr)\n",
            "    :Date: July; 1998\n",
            "\n",
            "This is a copy of the test set of the UCI ML hand-written digits datasets\n",
            "https://archive.ics.uci.edu/ml/datasets/Optical+Recognition+of+Handwritten+Digits\n",
            "\n",
            "The data set contains images of hand-written digits: 10 classes where\n",
            "each class refers to a digit.\n",
            "\n",
            "Preprocessing programs made available by NIST were used to extract\n",
            "normalized bitmaps of handwritten digits from a preprinted form. From a\n",
            "total of 43 people, 30 contributed to the training set and different 13\n",
            "to the test set. 32x32 bitmaps are divided into nonoverlapping blocks of\n",
            "4x4 and the number of on pixels are counted in each block. This generates\n",
            "an input matrix of 8x8 where each element is an integer in the range\n",
            "0..16. This reduces dimensionality and gives invariance to small\n",
            "distortions.\n",
            "\n",
            "For info on NIST preprocessing routines, see M. D. Garris, J. L. Blue, G.\n",
            "T. Candela, D. L. Dimmick, J. Geist, P. J. Grother, S. A. Janet, and C.\n",
            "L. Wilson, NIST Form-Based Handprint Recognition System, NISTIR 5469,\n",
            "1994.\n",
            "\n",
            ".. topic:: References\n",
            "\n",
            "  - C. Kaynak (1995) Methods of Combining Multiple Classifiers and Their\n",
            "    Applications to Handwritten Digit Recognition, MSc Thesis, Institute of\n",
            "    Graduate Studies in Science and Engineering, Bogazici University.\n",
            "  - E. Alpaydin, C. Kaynak (1998) Cascading Classifiers, Kybernetika.\n",
            "  - Ken Tang and Ponnuthurai N. Suganthan and Xi Yao and A. Kai Qin.\n",
            "    Linear dimensionalityreduction using relevance weighted LDA. School of\n",
            "    Electrical and Electronic Engineering Nanyang Technological University.\n",
            "    2005.\n",
            "  - Claudio Gentile. A New Approximate Maximal Margin Classification\n",
            "    Algorithm. NIPS. 2000.\n",
            "\n"
          ]
        },
        {
          "output_type": "display_data",
          "data": {
            "text/plain": [
              "<Figure size 640x480 with 1 Axes>"
            ],
            "image/png": "[encoded data removed]"
          },
          "metadata": {}
        }
      ],
      "source": [
        "import numpy as np\n",
        "import matplotlib.pyplot as plt\n",
        "from sklearn import datasets\n",
        "\n",
        "digits = datasets.load_digits()\n",
        "\n",
        "print(digits.keys())\n",
        "\n",
        "print(\"Shape of images:\", digits.images.shape)\n",
        "print(\"Shape of targets:\", digits.target.shape)\n",
        "\n",
        "n_samples = len(digits.images)\n",
        "n_features = digits.images.shape[1] * digits.images.shape[2]\n",
        "print(\"Number of samples:\", n_samples)\n",
        "print(\"Number of features:\", n_features)\n",
        "\n",
        "print(digits.DESCR)\n",
        "\n",
        "plt.imshow(digits.images[8], cmap=plt.cm.gray_r, interpolation='nearest')\n",
        "plt.title(f'Label: {digits.target[8]}')\n",
        "plt.show()"
      ]
    },
    {
      "cell_type": "code",
      "source": [
        "#Import all of the libraries that will be used\n",
        "from sklearn import datasets\n",
        "from sklearn.model_selection import train_test_split\n",
        "from sklearn.preprocessing import StandardScaler\n",
        "from sklearn.svm import SVC\n",
        "from sklearn.metrics import accuracy_score, confusion_matrix, classification_report\n",
        "import matplotlib.pyplot as plt\n",
        "\n",
        "#Load the dataset\n",
        "digits = datasets.load_digits()\n",
        "data = digits.data\n",
        "target = digits.target\n",
        "\n",
        "#Split the data into training and test sets\n",
        "X_train, X_test, y_train, y_test = train_test_split(data, target, test_size=0.3, random_state=42)\n",
        "\n",
        "#Create and train the model\n",
        "model = SVC(gamma='auto')\n",
        "model.fit(X_train, y_train)\n",
        "\n",
        "#Evaluate the model\n",
        "y_pred = model.predict(X_test)\n",
        "\n",
        "#Calculate the accuracy\n",
        "accuracy = accuracy_score(y_test,y_pred)\n",
        "print(\"Accuracy:\", accuracy)\n",
        "\n",
        "#Print confusion matrix\n",
        "conf_matrix = confusion_matrix(y_test, y_pred)\n",
        "print(\"Confusion Matrix:\\n\", conf_matrix)\n",
        "\n",
        "# Print classification report\n",
        "class_report = classification_report(y_test, y_pred)\n",
        "print(\"Classification Report:\\n\", class_report)\n",
        "\n",
        "# Step 7: Make predictions on new data\n",
        "# Example: Predict the label of the first image in the test set\n",
        "prediction = model.predict([X_test[0]])\n",
        "print(\"Predicted label for the first test image:\", prediction[0])\n",
        "\n",
        "# Display the first test image\n",
        "plt.imshow(X_test[0].reshape(8, 8), cmap=plt.cm.gray_r, interpolation='nearest')\n",
        "plt.title(f'Predicted Label: {prediction[0]}')\n",
        "plt.show()\n",
        "\n",
        "print(\"Shape of X_train:\", X_train.shape)\n",
        "print(\"Shape of X_test:\", X_test.shape)\n",
        "print(\"Shape of y_train:\", y_train.shape)\n",
        "print(\"Shape of y_test:\", y_test.shape)"
      ],
      "metadata": {
        "colab": {
          "base_uri": "https://localhost:8080/",
          "height": 747
        },
        "id": "x1VuOtcLUUuR",
        "outputId": "6ddb2c9c-daae-49da-cf88-cf1eec959fab"
      },
      "execution_count": null,
      "outputs": [
        {
          "output_type": "stream",
          "name": "stdout",
          "text": [
            "Accuracy: 0.3925925925925926\n",
            "Confusion Matrix:\n",
            " [[21  0  0  0  0  0  0  0 32  0]\n",
            " [ 0 21  0  0  0  0  0  0 29  0]\n",
            " [ 0  0 26  0  0  0  0  0 21  0]\n",
            " [ 0  0  0 26  0  0  0  0 28  0]\n",
            " [ 0  0  0  0 15  0  0  0 45  0]\n",
            " [ 0  0  0  0  0  0  0  0 66  0]\n",
            " [ 0  0  0  0  0  0 35  0 18  0]\n",
            " [ 0  0  0  0  0  0  0 19 36  0]\n",
            " [ 0  0  0  0  0  0  0  0 43  0]\n",
            " [ 0  0  0  0  0  0  0  0 53  6]]\n",
            "Predicted label for the first test image: 6\n"
          ]
        },
        {
          "output_type": "display_data",
          "data": {
            "text/plain": [
              "<Figure size 640x480 with 1 Axes>"
            ],
            "image/png": "[encoded data removed]"
          },
          "metadata": {}
        },
        {
          "output_type": "stream",
          "name": "stdout",
          "text": [
            "Shape of X_train: (1257, 64)\n",
            "Shape of X_test: (540, 64)\n",
            "Shape of y_train: (1257,)\n",
            "Shape of y_test: (540,)\n"
          ]
        }
      ]
    },
    {
      "cell_type": "code",
      "source": [],
      "metadata": {
        "id": "sBEX6MnRXiP_"
      },
      "execution_count": null,
      "outputs": []
    }
  ]
}